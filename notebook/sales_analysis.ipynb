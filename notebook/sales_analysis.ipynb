{
 "cells": [
  {
   "cell_type": "markdown",
   "id": "194b910b-65e3-48d1-af90-912c18694e68",
   "metadata": {},
   "source": [
    "# Import libraries"
   ]
  },
  {
   "cell_type": "code",
   "execution_count": 1,
   "id": "a900563d-19b0-431f-8d09-5e8113c56985",
   "metadata": {},
   "outputs": [],
   "source": [
    "import numpy as np\n",
    "import pandas as pd\n",
    "import matplotlib.pyplot as plt\n",
    "import seaborn as sns\n",
    "import json\n",
    "import plotly.express as px\n",
    "from IPython.display import Image\n",
    "import warnings\n",
    "warnings.filterwarnings('ignore')\n",
    "pd.set_option('display.max_columns', 500)"
   ]
  },
  {
   "cell_type": "markdown",
   "id": "738e1b87-e65e-4d6e-a4a5-ea14a5758cae",
   "metadata": {},
   "source": [
    "# Import data"
   ]
  },
  {
   "cell_type": "code",
   "execution_count": 2,
   "id": "8e145a41-850e-4df7-89b3-43d29835679d",
   "metadata": {},
   "outputs": [],
   "source": [
    "delivered_df = pd.read_csv('../data/processed_data/olist_delivered_customers.csv') "
   ]
  },
  {
   "cell_type": "markdown",
   "id": "faaac69b-4a30-450a-88e2-d44a8c4b913f",
   "metadata": {},
   "source": [
    "# Overview data"
   ]
  },
  {
   "cell_type": "code",
   "execution_count": 3,
   "id": "a11888ae-0590-46b9-bd4c-ff051090b084",
   "metadata": {},
   "outputs": [
    {
     "name": "stdout",
     "output_type": "stream",
     "text": [
      "Shape: (96478, 17)\n"
     ]
    },
    {
     "data": {
      "text/html": [
       "<div>\n",
       "<style scoped>\n",
       "    .dataframe tbody tr th:only-of-type {\n",
       "        vertical-align: middle;\n",
       "    }\n",
       "\n",
       "    .dataframe tbody tr th {\n",
       "        vertical-align: top;\n",
       "    }\n",
       "\n",
       "    .dataframe thead th {\n",
       "        text-align: right;\n",
       "    }\n",
       "</style>\n",
       "<table border=\"1\" class=\"dataframe\">\n",
       "  <thead>\n",
       "    <tr style=\"text-align: right;\">\n",
       "      <th></th>\n",
       "      <th>customer_id</th>\n",
       "      <th>customer_unique_id</th>\n",
       "      <th>customer_zip_code_prefix</th>\n",
       "      <th>customer_city</th>\n",
       "      <th>customer_state</th>\n",
       "      <th>customer_country</th>\n",
       "      <th>geolocation_lat</th>\n",
       "      <th>geolocation_lng</th>\n",
       "      <th>order_id</th>\n",
       "      <th>order_status</th>\n",
       "      <th>order_purchase_timestamp</th>\n",
       "      <th>order_approved_at</th>\n",
       "      <th>order_delivered_carrier_date</th>\n",
       "      <th>order_delivered_customer_date</th>\n",
       "      <th>order_estimated_delivery_date</th>\n",
       "      <th>total_number_of_items</th>\n",
       "      <th>total_order_value</th>\n",
       "    </tr>\n",
       "  </thead>\n",
       "  <tbody>\n",
       "    <tr>\n",
       "      <th>0</th>\n",
       "      <td>06b8999e2fba1a1fbc88172c00ba8bc7</td>\n",
       "      <td>861eff4711a542e4b93843c6dd7febb0</td>\n",
       "      <td>14409</td>\n",
       "      <td>franca</td>\n",
       "      <td>SP</td>\n",
       "      <td>Brazil</td>\n",
       "      <td>-20.502070</td>\n",
       "      <td>-47.396822</td>\n",
       "      <td>00e7ee1b050b8499577073aeb2a297a1</td>\n",
       "      <td>delivered</td>\n",
       "      <td>2017-05-16 15:05:35</td>\n",
       "      <td>2017-05-16 15:22:12</td>\n",
       "      <td>2017-05-23 10:47:57</td>\n",
       "      <td>2017-05-25 10:35:35</td>\n",
       "      <td>2017-06-05</td>\n",
       "      <td>1</td>\n",
       "      <td>146.87</td>\n",
       "    </tr>\n",
       "    <tr>\n",
       "      <th>1</th>\n",
       "      <td>18955e83d337fd6b2def6b18a428ac77</td>\n",
       "      <td>290c77bc529b7ac935b93aa66c333dc3</td>\n",
       "      <td>9790</td>\n",
       "      <td>sao bernardo do campo</td>\n",
       "      <td>SP</td>\n",
       "      <td>Brazil</td>\n",
       "      <td>-23.727299</td>\n",
       "      <td>-46.542631</td>\n",
       "      <td>29150127e6685892b6eab3eec79f59c7</td>\n",
       "      <td>delivered</td>\n",
       "      <td>2018-01-12 20:48:24</td>\n",
       "      <td>2018-01-12 20:58:32</td>\n",
       "      <td>2018-01-15 17:14:59</td>\n",
       "      <td>2018-01-29 12:41:19</td>\n",
       "      <td>2018-02-06</td>\n",
       "      <td>1</td>\n",
       "      <td>335.48</td>\n",
       "    </tr>\n",
       "    <tr>\n",
       "      <th>2</th>\n",
       "      <td>4e7b3e00288586ebd08712fdd0374a03</td>\n",
       "      <td>060e732b5b29e8181a18229c7b0b2b5e</td>\n",
       "      <td>1151</td>\n",
       "      <td>sao paulo</td>\n",
       "      <td>SP</td>\n",
       "      <td>Brazil</td>\n",
       "      <td>-23.531294</td>\n",
       "      <td>-46.656404</td>\n",
       "      <td>b2059ed67ce144a36e2aa97d2c9e9ad2</td>\n",
       "      <td>delivered</td>\n",
       "      <td>2018-05-19 16:07:45</td>\n",
       "      <td>2018-05-20 16:19:10</td>\n",
       "      <td>2018-06-11 14:31:00</td>\n",
       "      <td>2018-06-14 17:58:51</td>\n",
       "      <td>2018-06-13</td>\n",
       "      <td>1</td>\n",
       "      <td>157.73</td>\n",
       "    </tr>\n",
       "    <tr>\n",
       "      <th>3</th>\n",
       "      <td>b2b6027bc5c5109e529d4dc6358b12c3</td>\n",
       "      <td>259dac757896d24d7702b9acbbff3f3c</td>\n",
       "      <td>8775</td>\n",
       "      <td>mogi das cruzes</td>\n",
       "      <td>SP</td>\n",
       "      <td>Brazil</td>\n",
       "      <td>-23.497390</td>\n",
       "      <td>-46.182342</td>\n",
       "      <td>951670f92359f4fe4a63112aa7306eba</td>\n",
       "      <td>delivered</td>\n",
       "      <td>2018-03-13 16:06:38</td>\n",
       "      <td>2018-03-13 17:29:19</td>\n",
       "      <td>2018-03-27 23:22:42</td>\n",
       "      <td>2018-03-28 16:04:25</td>\n",
       "      <td>2018-04-10</td>\n",
       "      <td>1</td>\n",
       "      <td>173.30</td>\n",
       "    </tr>\n",
       "    <tr>\n",
       "      <th>4</th>\n",
       "      <td>4f2d8ab171c80ec8364f7c12e35b23ad</td>\n",
       "      <td>345ecd01c38d18a9036ed96c73b8d066</td>\n",
       "      <td>13056</td>\n",
       "      <td>campinas</td>\n",
       "      <td>SP</td>\n",
       "      <td>Brazil</td>\n",
       "      <td>-22.973309</td>\n",
       "      <td>-47.141530</td>\n",
       "      <td>6b7d50bd145f6fc7f33cebabd7e49d0f</td>\n",
       "      <td>delivered</td>\n",
       "      <td>2018-07-29 09:51:30</td>\n",
       "      <td>2018-07-29 10:10:09</td>\n",
       "      <td>2018-07-30 15:16:00</td>\n",
       "      <td>2018-08-09 20:55:48</td>\n",
       "      <td>2018-08-15</td>\n",
       "      <td>1</td>\n",
       "      <td>252.25</td>\n",
       "    </tr>\n",
       "  </tbody>\n",
       "</table>\n",
       "</div>"
      ],
      "text/plain": [
       "                        customer_id                customer_unique_id  \\\n",
       "0  06b8999e2fba1a1fbc88172c00ba8bc7  861eff4711a542e4b93843c6dd7febb0   \n",
       "1  18955e83d337fd6b2def6b18a428ac77  290c77bc529b7ac935b93aa66c333dc3   \n",
       "2  4e7b3e00288586ebd08712fdd0374a03  060e732b5b29e8181a18229c7b0b2b5e   \n",
       "3  b2b6027bc5c5109e529d4dc6358b12c3  259dac757896d24d7702b9acbbff3f3c   \n",
       "4  4f2d8ab171c80ec8364f7c12e35b23ad  345ecd01c38d18a9036ed96c73b8d066   \n",
       "\n",
       "   customer_zip_code_prefix          customer_city customer_state  \\\n",
       "0                     14409                 franca             SP   \n",
       "1                      9790  sao bernardo do campo             SP   \n",
       "2                      1151              sao paulo             SP   \n",
       "3                      8775        mogi das cruzes             SP   \n",
       "4                     13056               campinas             SP   \n",
       "\n",
       "  customer_country  geolocation_lat  geolocation_lng  \\\n",
       "0           Brazil       -20.502070       -47.396822   \n",
       "1           Brazil       -23.727299       -46.542631   \n",
       "2           Brazil       -23.531294       -46.656404   \n",
       "3           Brazil       -23.497390       -46.182342   \n",
       "4           Brazil       -22.973309       -47.141530   \n",
       "\n",
       "                           order_id order_status order_purchase_timestamp  \\\n",
       "0  00e7ee1b050b8499577073aeb2a297a1    delivered      2017-05-16 15:05:35   \n",
       "1  29150127e6685892b6eab3eec79f59c7    delivered      2018-01-12 20:48:24   \n",
       "2  b2059ed67ce144a36e2aa97d2c9e9ad2    delivered      2018-05-19 16:07:45   \n",
       "3  951670f92359f4fe4a63112aa7306eba    delivered      2018-03-13 16:06:38   \n",
       "4  6b7d50bd145f6fc7f33cebabd7e49d0f    delivered      2018-07-29 09:51:30   \n",
       "\n",
       "     order_approved_at order_delivered_carrier_date  \\\n",
       "0  2017-05-16 15:22:12          2017-05-23 10:47:57   \n",
       "1  2018-01-12 20:58:32          2018-01-15 17:14:59   \n",
       "2  2018-05-20 16:19:10          2018-06-11 14:31:00   \n",
       "3  2018-03-13 17:29:19          2018-03-27 23:22:42   \n",
       "4  2018-07-29 10:10:09          2018-07-30 15:16:00   \n",
       "\n",
       "  order_delivered_customer_date order_estimated_delivery_date  \\\n",
       "0           2017-05-25 10:35:35                    2017-06-05   \n",
       "1           2018-01-29 12:41:19                    2018-02-06   \n",
       "2           2018-06-14 17:58:51                    2018-06-13   \n",
       "3           2018-03-28 16:04:25                    2018-04-10   \n",
       "4           2018-08-09 20:55:48                    2018-08-15   \n",
       "\n",
       "   total_number_of_items  total_order_value  \n",
       "0                      1             146.87  \n",
       "1                      1             335.48  \n",
       "2                      1             157.73  \n",
       "3                      1             173.30  \n",
       "4                      1             252.25  "
      ]
     },
     "execution_count": 3,
     "metadata": {},
     "output_type": "execute_result"
    }
   ],
   "source": [
    "# Overview data\n",
    "print('Shape:', delivered_df.shape)\n",
    "delivered_df.head()"
   ]
  },
  {
   "cell_type": "code",
   "execution_count": 4,
   "id": "b3548420-dd95-4ad5-be49-103e59e169cc",
   "metadata": {},
   "outputs": [
    {
     "data": {
      "text/plain": [
       "customer_id                       0\n",
       "customer_unique_id                0\n",
       "customer_zip_code_prefix          0\n",
       "customer_city                     0\n",
       "customer_state                    0\n",
       "customer_country                  0\n",
       "geolocation_lat                   0\n",
       "geolocation_lng                   0\n",
       "order_id                          0\n",
       "order_status                      0\n",
       "order_purchase_timestamp          0\n",
       "order_approved_at                14\n",
       "order_delivered_carrier_date      2\n",
       "order_delivered_customer_date     0\n",
       "order_estimated_delivery_date     0\n",
       "total_number_of_items             0\n",
       "total_order_value                 0\n",
       "dtype: int64"
      ]
     },
     "execution_count": 4,
     "metadata": {},
     "output_type": "execute_result"
    }
   ],
   "source": [
    "# Check null values\n",
    "delivered_df.isnull().sum()"
   ]
  },
  {
   "cell_type": "code",
   "execution_count": 5,
   "id": "ee3f6a2c-261d-4402-8587-d39b8b9e138d",
   "metadata": {},
   "outputs": [
    {
     "data": {
      "text/plain": [
       "customer_id                       object\n",
       "customer_unique_id                object\n",
       "customer_zip_code_prefix           int64\n",
       "customer_city                     object\n",
       "customer_state                    object\n",
       "customer_country                  object\n",
       "geolocation_lat                  float64\n",
       "geolocation_lng                  float64\n",
       "order_id                          object\n",
       "order_status                      object\n",
       "order_purchase_timestamp          object\n",
       "order_approved_at                 object\n",
       "order_delivered_carrier_date      object\n",
       "order_delivered_customer_date     object\n",
       "order_estimated_delivery_date     object\n",
       "total_number_of_items              int64\n",
       "total_order_value                float64\n",
       "dtype: object"
      ]
     },
     "execution_count": 5,
     "metadata": {},
     "output_type": "execute_result"
    }
   ],
   "source": [
    "# Check data types \n",
    "delivered_df.dtypes"
   ]
  },
  {
   "cell_type": "code",
   "execution_count": 6,
   "id": "1f6c7acc-77d8-46b1-98a6-a08da039c035",
   "metadata": {},
   "outputs": [],
   "source": [
    "# Convert some columns below to datetime\n",
    "delivered_df['order_purchase_timestamp'] = pd.to_datetime(delivered_df.order_purchase_timestamp, errors='coerce')\n",
    "delivered_df['order_approved_at'] = pd.to_datetime(delivered_df.order_approved_at, errors='coerce')\n",
    "delivered_df['order_delivered_carrier_date'] = pd.to_datetime(delivered_df.order_delivered_carrier_date, errors='coerce')\n",
    "delivered_df['order_delivered_customer_date'] = pd.to_datetime(delivered_df.order_delivered_customer_date, errors='coerce')\n",
    "delivered_df['order_estimated_delivery_date'] = pd.to_datetime(delivered_df.order_estimated_delivery_date, errors='coerce')"
   ]
  },
  {
   "cell_type": "code",
   "execution_count": 7,
   "id": "b3ab65a5-5999-4a7f-8dcb-e7716f61b7e0",
   "metadata": {},
   "outputs": [
    {
     "data": {
      "text/plain": [
       "customer_id                              object\n",
       "customer_unique_id                       object\n",
       "customer_zip_code_prefix                  int64\n",
       "customer_city                            object\n",
       "customer_state                           object\n",
       "customer_country                         object\n",
       "geolocation_lat                         float64\n",
       "geolocation_lng                         float64\n",
       "order_id                                 object\n",
       "order_status                             object\n",
       "order_purchase_timestamp         datetime64[ns]\n",
       "order_approved_at                datetime64[ns]\n",
       "order_delivered_carrier_date     datetime64[ns]\n",
       "order_delivered_customer_date    datetime64[ns]\n",
       "order_estimated_delivery_date    datetime64[ns]\n",
       "total_number_of_items                     int64\n",
       "total_order_value                       float64\n",
       "dtype: object"
      ]
     },
     "execution_count": 7,
     "metadata": {},
     "output_type": "execute_result"
    }
   ],
   "source": [
    "# Check data types again\n",
    "delivered_df.dtypes"
   ]
  },
  {
   "cell_type": "markdown",
   "id": "cb06cd15-0733-4345-b8fd-80728114c035",
   "metadata": {},
   "source": [
    "# Sales Analysis"
   ]
  },
  {
   "cell_type": "code",
   "execution_count": 8,
   "id": "7e8e16bd-557f-4e06-abc7-b21aa4ba1ff1",
   "metadata": {},
   "outputs": [
    {
     "name": "stdout",
     "output_type": "stream",
     "text": [
      "Start date: 2016-09-15\n",
      "End date: 2018-08-29\n"
     ]
    }
   ],
   "source": [
    "print('Start date:', delivered_df.order_purchase_timestamp.min().strftime('%Y-%m-%d'))\n",
    "print('End date:', delivered_df.order_purchase_timestamp.max().strftime('%Y-%m-%d'))"
   ]
  },
  {
   "cell_type": "markdown",
   "id": "0c6f791a-a6cf-4e62-a1c7-dda6a1d9c1c3",
   "metadata": {},
   "source": [
    "## Total sales of Olist"
   ]
  },
  {
   "cell_type": "code",
   "execution_count": 9,
   "id": "38b32894-a04b-49f1-b5a5-fbc822db9aa3",
   "metadata": {},
   "outputs": [
    {
     "name": "stdout",
     "output_type": "stream",
     "text": [
      "R$ 17,580,437.55\n"
     ]
    }
   ],
   "source": [
    "total_sales = delivered_df.total_order_value.sum()\n",
    "print('R$ {:,.2f}'.format(total_sales))"
   ]
  },
  {
   "cell_type": "markdown",
   "id": "a29f65bf-7391-45f3-9754-4680cecd97da",
   "metadata": {},
   "source": [
    "## Sales over months"
   ]
  },
  {
   "cell_type": "code",
   "execution_count": 10,
   "id": "4e93d973-7eb4-4193-8362-47094d94c6e9",
   "metadata": {},
   "outputs": [
    {
     "data": {
      "text/html": [
       "<div>\n",
       "<style scoped>\n",
       "    .dataframe tbody tr th:only-of-type {\n",
       "        vertical-align: middle;\n",
       "    }\n",
       "\n",
       "    .dataframe tbody tr th {\n",
       "        vertical-align: top;\n",
       "    }\n",
       "\n",
       "    .dataframe thead th {\n",
       "        text-align: right;\n",
       "    }\n",
       "</style>\n",
       "<table border=\"1\" class=\"dataframe\">\n",
       "  <thead>\n",
       "    <tr style=\"text-align: right;\">\n",
       "      <th>month</th>\n",
       "      <th>2016-09</th>\n",
       "      <th>2016-10</th>\n",
       "      <th>2016-12</th>\n",
       "      <th>2017-01</th>\n",
       "      <th>2017-02</th>\n",
       "      <th>2017-03</th>\n",
       "      <th>2017-04</th>\n",
       "      <th>2017-05</th>\n",
       "      <th>2017-06</th>\n",
       "      <th>2017-07</th>\n",
       "      <th>2017-08</th>\n",
       "      <th>2017-09</th>\n",
       "      <th>2017-10</th>\n",
       "      <th>2017-11</th>\n",
       "      <th>2017-12</th>\n",
       "      <th>2018-01</th>\n",
       "      <th>2018-02</th>\n",
       "      <th>2018-03</th>\n",
       "      <th>2018-04</th>\n",
       "      <th>2018-05</th>\n",
       "      <th>2018-06</th>\n",
       "      <th>2018-07</th>\n",
       "      <th>2018-08</th>\n",
       "    </tr>\n",
       "  </thead>\n",
       "  <tbody>\n",
       "    <tr>\n",
       "      <th>sales</th>\n",
       "      <td>286.92</td>\n",
       "      <td>53892.73</td>\n",
       "      <td>19.62</td>\n",
       "      <td>151780.36</td>\n",
       "      <td>298124.69</td>\n",
       "      <td>460292.94</td>\n",
       "      <td>423449.36</td>\n",
       "      <td>632846.13</td>\n",
       "      <td>538167.08</td>\n",
       "      <td>639885.33</td>\n",
       "      <td>742775.22</td>\n",
       "      <td>848690.0</td>\n",
       "      <td>874350.33</td>\n",
       "      <td>1350884.12</td>\n",
       "      <td>930175.36</td>\n",
       "      <td>1225130.09</td>\n",
       "      <td>1122688.19</td>\n",
       "      <td>1278396.99</td>\n",
       "      <td>1298434.09</td>\n",
       "      <td>1295808.12</td>\n",
       "      <td>1148820.58</td>\n",
       "      <td>1166756.6</td>\n",
       "      <td>1098782.7</td>\n",
       "    </tr>\n",
       "  </tbody>\n",
       "</table>\n",
       "</div>"
      ],
      "text/plain": [
       "month  2016-09   2016-10  2016-12    2017-01    2017-02    2017-03    2017-04  \\\n",
       "sales   286.92  53892.73    19.62  151780.36  298124.69  460292.94  423449.36   \n",
       "\n",
       "month    2017-05    2017-06    2017-07    2017-08   2017-09    2017-10  \\\n",
       "sales  632846.13  538167.08  639885.33  742775.22  848690.0  874350.33   \n",
       "\n",
       "month     2017-11    2017-12     2018-01     2018-02     2018-03     2018-04  \\\n",
       "sales  1350884.12  930175.36  1225130.09  1122688.19  1278396.99  1298434.09   \n",
       "\n",
       "month     2018-05     2018-06    2018-07    2018-08  \n",
       "sales  1295808.12  1148820.58  1166756.6  1098782.7  "
      ]
     },
     "execution_count": 10,
     "metadata": {},
     "output_type": "execute_result"
    }
   ],
   "source": [
    "# Calculate sales by month\n",
    "delivered_df['month'] = delivered_df.order_purchase_timestamp.dt.to_period('M')\n",
    "sales_month_df = delivered_df.groupby('month').agg({'total_order_value':'sum'}).rename(columns={'total_order_value':'sales'})\n",
    "sales_month_df.T"
   ]
  },
  {
   "cell_type": "code",
   "execution_count": 11,
   "id": "a654705d-856c-45c0-b9fb-6054b081fa21",
   "metadata": {},
   "outputs": [],
   "source": [
    "# Change type of index\n",
    "sales_month_df.index = sales_month_df.index.astype('str')"
   ]
  },
  {
   "cell_type": "code",
   "execution_count": 12,
   "id": "71256786-664e-4d87-876f-1e18b1e26027",
   "metadata": {},
   "outputs": [
    {
     "data": {
      "image/png": "[encoded data removed]",
      "text/plain": [
       "<Figure size 1296x432 with 1 Axes>"
      ]
     },
     "metadata": {
      "needs_background": "light"
     },
     "output_type": "display_data"
    }
   ],
   "source": [
    "# Visualize sales over month\n",
    "fig, ax = plt.subplots(figsize=(18, 6))\n",
    "sns.lineplot(x=sales_month_df.index, y=sales_month_df.sales, color='steelblue', ax=ax)\n",
    "ax.set_title('Sales over months\\n', fontsize=15)\n",
    "ax.set_xlabel('Month', fontsize=13)\n",
    "ax.set_ylabel('Sales', fontsize=13)\n",
    "ax.set_yticks(np.arange(0, 1500000, 100000))\n",
    "ax.xaxis.set_tick_params(rotation=45)\n",
    "ax.ticklabel_format(useOffset=False, style='plain', axis='y')\n",
    "plt.show()"
   ]
  },
  {
   "cell_type": "markdown",
   "id": "37ca0b5f-ceaa-403c-8feb-37e0bb849322",
   "metadata": {},
   "source": [
    "**Comment:** Although there were fluctuations, in general, until 2017 - 11 - the month with the most sales, Olist's sales tended to increase. After this point, Olist's order volume gradually decreases in the following month, and the months after that there are slight fluctuations."
   ]
  },
  {
   "cell_type": "markdown",
   "id": "84c31674-cc6c-4009-b235-23c10af5d3d9",
   "metadata": {},
   "source": [
    "## Sales by State"
   ]
  },
  {
   "cell_type": "code",
   "execution_count": 13,
   "id": "24416b34-3b13-4a65-9efb-fef2cb7d29aa",
   "metadata": {},
   "outputs": [
    {
     "name": "stdout",
     "output_type": "stream",
     "text": [
      "Shape: (27, 3)\n"
     ]
    },
    {
     "data": {
      "text/html": [
       "<div>\n",
       "<style scoped>\n",
       "    .dataframe tbody tr th:only-of-type {\n",
       "        vertical-align: middle;\n",
       "    }\n",
       "\n",
       "    .dataframe tbody tr th {\n",
       "        vertical-align: top;\n",
       "    }\n",
       "\n",
       "    .dataframe thead th {\n",
       "        text-align: right;\n",
       "    }\n",
       "</style>\n",
       "<table border=\"1\" class=\"dataframe\">\n",
       "  <thead>\n",
       "    <tr style=\"text-align: right;\">\n",
       "      <th></th>\n",
       "      <th>Country</th>\n",
       "      <th>State</th>\n",
       "      <th>Sales</th>\n",
       "    </tr>\n",
       "  </thead>\n",
       "  <tbody>\n",
       "    <tr>\n",
       "      <th>0</th>\n",
       "      <td>Brazil</td>\n",
       "      <td>SP</td>\n",
       "      <td>6583169.45</td>\n",
       "    </tr>\n",
       "    <tr>\n",
       "      <th>1</th>\n",
       "      <td>Brazil</td>\n",
       "      <td>RJ</td>\n",
       "      <td>2371478.78</td>\n",
       "    </tr>\n",
       "    <tr>\n",
       "      <th>2</th>\n",
       "      <td>Brazil</td>\n",
       "      <td>MG</td>\n",
       "      <td>2049407.19</td>\n",
       "    </tr>\n",
       "    <tr>\n",
       "      <th>3</th>\n",
       "      <td>Brazil</td>\n",
       "      <td>RS</td>\n",
       "      <td>985365.89</td>\n",
       "    </tr>\n",
       "    <tr>\n",
       "      <th>4</th>\n",
       "      <td>Brazil</td>\n",
       "      <td>PR</td>\n",
       "      <td>905824.38</td>\n",
       "    </tr>\n",
       "    <tr>\n",
       "      <th>5</th>\n",
       "      <td>Brazil</td>\n",
       "      <td>BA</td>\n",
       "      <td>681373.27</td>\n",
       "    </tr>\n",
       "    <tr>\n",
       "      <th>6</th>\n",
       "      <td>Brazil</td>\n",
       "      <td>SC</td>\n",
       "      <td>678448.02</td>\n",
       "    </tr>\n",
       "    <tr>\n",
       "      <th>7</th>\n",
       "      <td>Brazil</td>\n",
       "      <td>GO</td>\n",
       "      <td>413280.73</td>\n",
       "    </tr>\n",
       "    <tr>\n",
       "      <th>8</th>\n",
       "      <td>Brazil</td>\n",
       "      <td>DF</td>\n",
       "      <td>383849.65</td>\n",
       "    </tr>\n",
       "    <tr>\n",
       "      <th>9</th>\n",
       "      <td>Brazil</td>\n",
       "      <td>ES</td>\n",
       "      <td>358030.24</td>\n",
       "    </tr>\n",
       "  </tbody>\n",
       "</table>\n",
       "</div>"
      ],
      "text/plain": [
       "  Country State       Sales\n",
       "0  Brazil    SP  6583169.45\n",
       "1  Brazil    RJ  2371478.78\n",
       "2  Brazil    MG  2049407.19\n",
       "3  Brazil    RS   985365.89\n",
       "4  Brazil    PR   905824.38\n",
       "5  Brazil    BA   681373.27\n",
       "6  Brazil    SC   678448.02\n",
       "7  Brazil    GO   413280.73\n",
       "8  Brazil    DF   383849.65\n",
       "9  Brazil    ES   358030.24"
      ]
     },
     "execution_count": 13,
     "metadata": {},
     "output_type": "execute_result"
    }
   ],
   "source": [
    "# Calculate sales by state\n",
    "state_df = delivered_df.groupby(['customer_country', 'customer_state']).agg({'total_order_value':'sum'})\\\n",
    "                       .sort_values(by='total_order_value', ascending=False).reset_index() \\\n",
    "                       .rename(columns={'customer_country':'Country', 'customer_state':'State', 'total_order_value':'Sales'}) \n",
    "print('Shape:', state_df.shape)\n",
    "state_df.head(10)"
   ]
  },
  {
   "cell_type": "code",
   "execution_count": 14,
   "id": "88c75c4a-1c6a-45bf-bca3-428b9f910a66",
   "metadata": {},
   "outputs": [],
   "source": [
    "# Create function to load json file\n",
    "def read_json(arq_json):\n",
    "    with open(arq_json, 'r', encoding='utf8') as f:\n",
    "        return json.load(f)"
   ]
  },
  {
   "cell_type": "code",
   "execution_count": 15,
   "id": "91f9fce5-33f4-4eeb-b369-4d60d6ea9738",
   "metadata": {},
   "outputs": [],
   "source": [
    "# Load json file\n",
    "brazil_geo = read_json('../data/map/brazil_geo.json')"
   ]
  },
  {
   "cell_type": "code",
   "execution_count": 16,
   "id": "bcfea542-49d4-4f63-92c9-35e0525555db",
   "metadata": {},
   "outputs": [],
   "source": [
    "# # Visualize sales distribution map\n",
    "\n",
    "# fig = px.choropleth(state_df,                                                           # Uncomment and run the code to see the interactive map\n",
    "#                     geojson=brazil_geo,\n",
    "#                     locations='State',\n",
    "#                     color='Sales',\n",
    "#                     color_continuous_scale='Blues',\n",
    "#                     title='Olist\\'s sales distribution map',\n",
    "#                     labels={'Sales':'Sales'})\n",
    "\n",
    "# fig.update_geos(fitbounds=\"locations\", visible=False)\n",
    "\n",
    "# fig.update_layout(autosize=False,\n",
    "#                   width=1200,\n",
    "#                   height=600,\n",
    "#                   title_font_size=25)\n",
    "\n",
    "# fig.show()"
   ]
  },
  {
   "cell_type": "code",
   "execution_count": 17,
   "id": "9112c23f-33bf-4616-a64c-3d7d66c16446",
   "metadata": {},
   "outputs": [],
   "source": [
    "# # Save map as png\n",
    "# fig.write_image('image/sales_by_state_map.png')"
   ]
  },
  {
   "cell_type": "code",
   "execution_count": 18,
   "id": "0a9ae060-e9ac-49a3-a9ab-982a65907f96",
   "metadata": {},
   "outputs": [
    {
     "data": {
      "image/png": "[encoded data removed]",
      "text/plain": [
       "<IPython.core.display.Image object>"
      ]
     },
     "execution_count": 18,
     "metadata": {
      "image/png": {
       "width": 1200
      }
     },
     "output_type": "execute_result"
    }
   ],
   "source": [
    "# Display map\n",
    "Image(filename = '../image/sales_by_state_map.png', width=1200)"
   ]
  },
  {
   "cell_type": "markdown",
   "id": "315e0437-e511-493c-bd4a-02558932522a",
   "metadata": {},
   "source": [
    "**Comment:** Same as Olist's distribution of customers by state (see file [customer_analysis_1.ipynb](customer_analysis_1.ipynb)\n",
    "). The states that bring the most sales to Olist are concentrated mainly in Southeastern of Brazil. In which, state SP brought the biggest sales with R$ 6,583,169.45. In addition, the 10 states with the most sales are shown in the chart below."
   ]
  },
  {
   "cell_type": "code",
   "execution_count": 19,
   "id": "bb4e994f-64ec-49b4-9b09-1092058e4399",
   "metadata": {},
   "outputs": [
    {
     "name": "stdout",
     "output_type": "stream",
     "text": [
      "['SP', 'RJ', 'MG', 'RS', 'PR', 'BA', 'SC', 'GO', 'DF', 'ES']\n"
     ]
    }
   ],
   "source": [
    "print(state_df.head(10).State.tolist())"
   ]
  },
  {
   "cell_type": "code",
   "execution_count": 20,
   "id": "93a6ca03-a47f-4cd1-911a-8ef7dfffd378",
   "metadata": {},
   "outputs": [
    {
     "data": {
      "image/png": "[encoded data removed]",
      "text/plain": [
       "<Figure size 1296x432 with 1 Axes>"
      ]
     },
     "metadata": {
      "needs_background": "light"
     },
     "output_type": "display_data"
    }
   ],
   "source": [
    "# Visualize the top 10 states have the most sales\n",
    "fig, ax = plt.subplots(figsize=(18, 6))\n",
    "sns.barplot(y='State', x='Sales', data=state_df.head(10), color='steelblue', ax=ax)\n",
    "ax.set_title('Top 10 states have the most sales\\n', fontsize=15)\n",
    "ax.set_xlabel('Sales', fontsize=13)\n",
    "ax.set_ylabel('State', fontsize=13)\n",
    "ax.set_xticks(np.arange(0, 7500000, 500000))\n",
    "# for i, v in enumerate(state_df.head(10)['Sales']):\n",
    "#     ax.text(v, i+0.10, '  R$ {:,.2f}'.format(v), color='black', ha='left', fontsize=9)\n",
    "plt.ticklabel_format(style='plain', axis='x')\n",
    "plt.show()"
   ]
  },
  {
   "cell_type": "markdown",
   "id": "7f2e02d2-6a05-4a6a-a296-cdc71f8d6a79",
   "metadata": {},
   "source": [
    "## Sales by City"
   ]
  },
  {
   "cell_type": "code",
   "execution_count": 21,
   "id": "49841eed-aef2-4d8b-afcb-fddbd398f257",
   "metadata": {},
   "outputs": [
    {
     "name": "stdout",
     "output_type": "stream",
     "text": [
      "Shape: (4272, 4)\n"
     ]
    },
    {
     "data": {
      "text/html": [
       "<div>\n",
       "<style scoped>\n",
       "    .dataframe tbody tr th:only-of-type {\n",
       "        vertical-align: middle;\n",
       "    }\n",
       "\n",
       "    .dataframe tbody tr th {\n",
       "        vertical-align: top;\n",
       "    }\n",
       "\n",
       "    .dataframe thead th {\n",
       "        text-align: right;\n",
       "    }\n",
       "</style>\n",
       "<table border=\"1\" class=\"dataframe\">\n",
       "  <thead>\n",
       "    <tr style=\"text-align: right;\">\n",
       "      <th></th>\n",
       "      <th>Country</th>\n",
       "      <th>State</th>\n",
       "      <th>City</th>\n",
       "      <th>Sales</th>\n",
       "    </tr>\n",
       "  </thead>\n",
       "  <tbody>\n",
       "    <tr>\n",
       "      <th>0</th>\n",
       "      <td>Brazil</td>\n",
       "      <td>SP</td>\n",
       "      <td>sao paulo</td>\n",
       "      <td>2433678.83</td>\n",
       "    </tr>\n",
       "    <tr>\n",
       "      <th>1</th>\n",
       "      <td>Brazil</td>\n",
       "      <td>RJ</td>\n",
       "      <td>rio de janeiro</td>\n",
       "      <td>1315770.27</td>\n",
       "    </tr>\n",
       "    <tr>\n",
       "      <th>2</th>\n",
       "      <td>Brazil</td>\n",
       "      <td>MG</td>\n",
       "      <td>belo horizonte</td>\n",
       "      <td>447767.60</td>\n",
       "    </tr>\n",
       "    <tr>\n",
       "      <th>3</th>\n",
       "      <td>Brazil</td>\n",
       "      <td>DF</td>\n",
       "      <td>brasilia</td>\n",
       "      <td>382325.35</td>\n",
       "    </tr>\n",
       "    <tr>\n",
       "      <th>4</th>\n",
       "      <td>Brazil</td>\n",
       "      <td>PR</td>\n",
       "      <td>curitiba</td>\n",
       "      <td>280105.57</td>\n",
       "    </tr>\n",
       "    <tr>\n",
       "      <th>5</th>\n",
       "      <td>Brazil</td>\n",
       "      <td>RS</td>\n",
       "      <td>porto alegre</td>\n",
       "      <td>255028.37</td>\n",
       "    </tr>\n",
       "    <tr>\n",
       "      <th>6</th>\n",
       "      <td>Brazil</td>\n",
       "      <td>BA</td>\n",
       "      <td>salvador</td>\n",
       "      <td>243481.28</td>\n",
       "    </tr>\n",
       "    <tr>\n",
       "      <th>7</th>\n",
       "      <td>Brazil</td>\n",
       "      <td>SP</td>\n",
       "      <td>campinas</td>\n",
       "      <td>235098.02</td>\n",
       "    </tr>\n",
       "    <tr>\n",
       "      <th>8</th>\n",
       "      <td>Brazil</td>\n",
       "      <td>SP</td>\n",
       "      <td>guarulhos</td>\n",
       "      <td>178913.18</td>\n",
       "    </tr>\n",
       "    <tr>\n",
       "      <th>9</th>\n",
       "      <td>Brazil</td>\n",
       "      <td>GO</td>\n",
       "      <td>goiania</td>\n",
       "      <td>153719.48</td>\n",
       "    </tr>\n",
       "  </tbody>\n",
       "</table>\n",
       "</div>"
      ],
      "text/plain": [
       "  Country State            City       Sales\n",
       "0  Brazil    SP       sao paulo  2433678.83\n",
       "1  Brazil    RJ  rio de janeiro  1315770.27\n",
       "2  Brazil    MG  belo horizonte   447767.60\n",
       "3  Brazil    DF        brasilia   382325.35\n",
       "4  Brazil    PR        curitiba   280105.57\n",
       "5  Brazil    RS    porto alegre   255028.37\n",
       "6  Brazil    BA        salvador   243481.28\n",
       "7  Brazil    SP        campinas   235098.02\n",
       "8  Brazil    SP       guarulhos   178913.18\n",
       "9  Brazil    GO         goiania   153719.48"
      ]
     },
     "execution_count": 21,
     "metadata": {},
     "output_type": "execute_result"
    }
   ],
   "source": [
    "# Calculate sales by city\n",
    "city_df = delivered_df.groupby(['customer_country', 'customer_state', 'customer_city']).agg({'total_order_value':'sum'})\\\n",
    "                      .sort_values(by='total_order_value', ascending=False).reset_index() \\\n",
    "                      .rename(columns={'customer_country':'Country', 'customer_state':'State', 'customer_city':'City', 'total_order_value':'Sales'}) \n",
    "print('Shape:', city_df.shape)\n",
    "city_df.head(10)"
   ]
  },
  {
   "cell_type": "code",
   "execution_count": 22,
   "id": "7c1d82d2-c35c-45bb-a974-356c4efdd7a0",
   "metadata": {},
   "outputs": [
    {
     "name": "stdout",
     "output_type": "stream",
     "text": [
      "['sao paulo', 'rio de janeiro', 'belo horizonte', 'brasilia', 'curitiba', 'porto alegre', 'salvador', 'campinas', 'guarulhos', 'goiania']\n"
     ]
    }
   ],
   "source": [
    "print(city_df.head(10).City.tolist())"
   ]
  },
  {
   "cell_type": "code",
   "execution_count": 23,
   "id": "06b9c430-6df6-4439-a82f-0e131442985e",
   "metadata": {},
   "outputs": [
    {
     "data": {
      "image/png": "[encoded data removed]",
      "text/plain": [
       "<Figure size 1296x432 with 1 Axes>"
      ]
     },
     "metadata": {
      "needs_background": "light"
     },
     "output_type": "display_data"
    }
   ],
   "source": [
    "# Visualize the top 10 cities have the most sales\n",
    "fig, ax = plt.subplots(figsize=(18, 6))\n",
    "sns.barplot(y='City', x='Sales', data=city_df.head(10), color='steelblue', ax=ax)\n",
    "ax.set_title('Top 10 cities have the most sales\\n', fontsize=15)\n",
    "ax.set_xlabel('Sales', fontsize=13)\n",
    "ax.set_ylabel('City', fontsize=13)\n",
    "ax.set_xticks(np.arange(0, 2800000, 200000))\n",
    "# for i, v in enumerate(city_df.head(10)['Sales']):\n",
    "#     ax.text(v, i+0.10, '  R$ {:,.2f}'.format(v), color='black', ha='left', fontsize=9)\n",
    "plt.ticklabel_format(style='plain', axis='x')\n",
    "plt.show()"
   ]
  },
  {
   "cell_type": "markdown",
   "id": "50f8e401-abaf-4aaa-8516-fcb488c9b781",
   "metadata": {},
   "source": [
    "**Comment:** It can be seen that sao paulo is the city have the most sales. In the top 10 cities with the most sales, there are 3 cities in SP state: sao paulo, campinas, guarulhos."
   ]
  }
 ],
 "metadata": {
  "kernelspec": {
   "display_name": "Python 3",
   "language": "python",
   "name": "python3"
  },
  "language_info": {
   "codemirror_mode": {
    "name": "ipython",
    "version": 3
   },
   "file_extension": ".py",
   "mimetype": "text/x-python",
   "name": "python",
   "nbconvert_exporter": "python",
   "pygments_lexer": "ipython3",
   "version": "3.8.8"
  },
  "toc-autonumbering": false
 },
 "nbformat": 4,
 "nbformat_minor": 5
}
